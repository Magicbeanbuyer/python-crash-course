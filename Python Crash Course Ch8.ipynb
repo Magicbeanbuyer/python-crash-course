{
 "cells": [
  {
   "cell_type": "code",
   "execution_count": 2,
   "metadata": {},
   "outputs": [
    {
     "name": "stdout",
     "output_type": "stream",
     "text": [
      "Aloha, Lee!\n"
     ]
    }
   ],
   "source": [
    "def greeting_user(name):\n",
    "    print(\"Aloha, \" + name + \"!\" )\n",
    "    \n",
    "greeting_user(\"Lee\")"
   ]
  },
  {
   "cell_type": "code",
   "execution_count": 10,
   "metadata": {},
   "outputs": [
    {
     "name": "stdout",
     "output_type": "stream",
     "text": [
      "\n",
      "Its name is doudou\n",
      "\n",
      "I have a(n) dog\n",
      "\n",
      "It's 5 year old.\n"
     ]
    }
   ],
   "source": [
    "def pets(name, age, animal = \"dog\"):\n",
    "    print(\"\\nIts name is \" + name)\n",
    "    print(\"\\nI have a(n) \" + animal)\n",
    "    print(\"\\nIt's \" + age + \" year old.\")\n",
    "    \n",
    "pets(\"doudou\", \"5\")"
   ]
  },
  {
   "cell_type": "code",
   "execution_count": 17,
   "metadata": {},
   "outputs": [
    {
     "name": "stdout",
     "output_type": "stream",
     "text": [
      "Alice\n",
      "\n"
     ]
    }
   ],
   "source": [
    "def person(first_name, last_name, job = \"\", age = \"\"):\n",
    "    people = {\"first_name\":first_name, \"last_name\":last_name, \"job\":job, \"age\": age}\n",
    "    \n",
    "    return(people)\n",
    "        \n",
    "girl = person(\"Alice\", \"Wien\")\n",
    "\n",
    "print(girl['first_name'])\n",
    "print(girl[\"age\"])"
   ]
  },
  {
   "cell_type": "code",
   "execution_count": 10,
   "metadata": {},
   "outputs": [
    {
     "name": "stdout",
     "output_type": "stream",
     "text": [
      "[]\n",
      "[4, 3, 2, 1]\n"
     ]
    }
   ],
   "source": [
    "from_list = [i for i in range(1,5)]\n",
    "to_list = []\n",
    "\n",
    "def mover(froms, to):\n",
    "    while froms:\n",
    "        bob = froms.pop()\n",
    "        to.append(bob)\n",
    "    \n",
    "mover(from_list, to_list)\n",
    "\n",
    "print(from_list)\n",
    "print(to_list)"
   ]
  },
  {
   "cell_type": "code",
   "execution_count": 16,
   "metadata": {},
   "outputs": [
    {
     "name": "stdout",
     "output_type": "stream",
     "text": [
      "4 is being printed.\n",
      "3 is being printed.\n",
      "2 is being printed.\n",
      "1 is being printed.\n",
      "4 is completed.\n",
      "3 is completed.\n",
      "2 is completed.\n",
      "1 is completed.\n"
     ]
    }
   ],
   "source": [
    "list_from = [i for i in range(1,5)]\n",
    "list_to = []\n",
    "\n",
    "def print_designed(designed, complete):\n",
    "    while designed:\n",
    "        bob = designed.pop()\n",
    "        print(str(bob) + ' is being printed.')\n",
    "        complete.append(bob)\n",
    "        \n",
    "def print_complete(completes):\n",
    "    for completed in completes:\n",
    "        print(str(completed) + ' is completed.')\n",
    "        \n",
    "print_designed(list_from, list_to)\n",
    "print_complete(list_to)"
   ]
  },
  {
   "cell_type": "code",
   "execution_count": 2,
   "metadata": {},
   "outputs": [
    {
     "name": "stdout",
     "output_type": "stream",
     "text": [
      "6\n"
     ]
    }
   ],
   "source": [
    "def func_sum(*numbers):\n",
    "    for number in numbers:\n",
    "        number += number\n",
    "    print(number)\n",
    "        \n",
    "func_sum(1,2,3)"
   ]
  },
  {
   "cell_type": "code",
   "execution_count": 22,
   "metadata": {},
   "outputs": [
    {
     "name": "stdout",
     "output_type": "stream",
     "text": [
      "spicy\n",
      "size is 20\n",
      "add topping mashroom\n",
      "not spicy\n",
      "size is 30\n",
      "add topping peper\n"
     ]
    }
   ],
   "source": [
    "def make_a_pizza(size, spicy = False, *toppings):\n",
    "    if spicy is True:\n",
    "        print(\"spicy\")\n",
    "    elif spicy is False:\n",
    "        print(\"not spicy\")\n",
    "#     size = input(\"20 or 30? \")\n",
    "    print(\"size is \" + str(size))\n",
    "    \n",
    "    for topping in toppings:\n",
    "        print(\"add topping \" + topping)\n",
    "        \n",
    "make_a_pizza(20, True, \"mashroom\")\n",
    "make_a_pizza(30, False, \"peper\")"
   ]
  },
  {
   "cell_type": "code",
   "execution_count": 27,
   "metadata": {},
   "outputs": [
    {
     "name": "stdout",
     "output_type": "stream",
     "text": [
      "\n",
      "Making a 30-inch pizza with the following toppings:\n",
      "- mushroom\n",
      "- onion\n"
     ]
    }
   ],
   "source": [
    "import pizza\n",
    "\n",
    "pizza.make_pizza(30, \"mushroom\",\"onion\")"
   ]
  }
 ],
 "metadata": {
  "kernelspec": {
   "display_name": "Python 3",
   "language": "python",
   "name": "python3"
  },
  "language_info": {
   "codemirror_mode": {
    "name": "ipython",
    "version": 3
   },
   "file_extension": ".py",
   "mimetype": "text/x-python",
   "name": "python",
   "nbconvert_exporter": "python",
   "pygments_lexer": "ipython3",
   "version": "3.7.1"
  }
 },
 "nbformat": 4,
 "nbformat_minor": 2
}
