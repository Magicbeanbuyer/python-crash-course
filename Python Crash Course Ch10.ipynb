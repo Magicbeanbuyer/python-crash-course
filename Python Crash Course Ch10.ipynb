{
 "cells": [
  {
   "cell_type": "code",
   "execution_count": 1,
   "metadata": {},
   "outputs": [
    {
     "name": "stdout",
     "output_type": "stream",
     "text": [
      "3.141592653589793238462643383279\n"
     ]
    }
   ],
   "source": [
    "with open('pi_digit.txt') as file_object:\n",
    "    print(file_object.read())"
   ]
  },
  {
   "cell_type": "code",
   "execution_count": 2,
   "metadata": {},
   "outputs": [
    {
     "name": "stdout",
     "output_type": "stream",
     "text": [
      "3.141592653589793238462643383279\n"
     ]
    }
   ],
   "source": [
    "with open('pi_digit.txt') as file_obj:\n",
    "    content = file_obj.read()\n",
    "    print(content)"
   ]
  },
  {
   "cell_type": "code",
   "execution_count": 3,
   "metadata": {},
   "outputs": [
    {
     "name": "stdout",
     "output_type": "stream",
     "text": [
      "3.141592653589793238462643383279\n"
     ]
    }
   ],
   "source": [
    "with open('pi_digit.txt') as file_obj:\n",
    "    content = file_obj.read()\n",
    "    print(content.rstrip())"
   ]
  },
  {
   "cell_type": "code",
   "execution_count": 4,
   "metadata": {},
   "outputs": [
    {
     "name": "stdout",
     "output_type": "stream",
     "text": [
      "3.141592653589793238462643383279\n"
     ]
    }
   ],
   "source": [
    "with open('documents\\pi_digit.txt') as obj:\n",
    "    print(obj.read())"
   ]
  },
  {
   "cell_type": "code",
   "execution_count": 5,
   "metadata": {},
   "outputs": [
    {
     "name": "stdout",
     "output_type": "stream",
     "text": [
      "3.141592653\n",
      "\n",
      "58979323846\n",
      "\n",
      "2643383279\n"
     ]
    }
   ],
   "source": [
    "with open('pi_digit.txt') as objects:\n",
    "    for lines in objects:\n",
    "        print(lines)"
   ]
  },
  {
   "cell_type": "code",
   "execution_count": 6,
   "metadata": {},
   "outputs": [
    {
     "name": "stdout",
     "output_type": "stream",
     "text": [
      "3.141592653\n",
      "58979323846\n",
      "2643383279\n"
     ]
    }
   ],
   "source": [
    "with open('pi_digit.txt') as objects:\n",
    "    for lines in objects:\n",
    "        print(lines.rstrip())"
   ]
  },
  {
   "cell_type": "code",
   "execution_count": 11,
   "metadata": {},
   "outputs": [
    {
     "name": "stdout",
     "output_type": "stream",
     "text": [
      "3.141592653\n",
      "58979323846\n",
      "2643383279\n"
     ]
    }
   ],
   "source": [
    "with open ('pi_digit.txt') as f_obj:\n",
    "    obj_list = []\n",
    "    \n",
    "    for line in f_obj:\n",
    "        obj_list.append(line)\n",
    "        \n",
    "for objects in obj_list:\n",
    "    print(objects.rstrip())"
   ]
  },
  {
   "cell_type": "code",
   "execution_count": 2,
   "metadata": {},
   "outputs": [
    {
     "name": "stdout",
     "output_type": "stream",
     "text": [
      "3.141592653589793238462643383279\n",
      "32\n"
     ]
    }
   ],
   "source": [
    "with open('pi_digit.txt') as a:\n",
    "    lines = a.readlines()\n",
    "    \n",
    "pi_string = ''\n",
    "for line in lines:\n",
    "    pi_string += line.rstrip()\n",
    "    \n",
    "print(pi_string)\n",
    "print(len(pi_string))\n",
    "    "
   ]
  },
  {
   "cell_type": "code",
   "execution_count": 5,
   "metadata": {},
   "outputs": [
    {
     "name": "stdout",
     "output_type": "stream",
     "text": [
      "please enter your birthday in ddmmyyyy format:3383279\n",
      "your birthday appears in pi!\n"
     ]
    }
   ],
   "source": [
    "b_day = input(\"please enter your birthday in ddmmyyyy format:\")\n",
    "\n",
    "if b_day in pi_string:\n",
    "    print(\"your birthday appears in pi!\")\n",
    "else:\n",
    "    print(\"your birthday is not in pi.\")"
   ]
  },
  {
   "cell_type": "code",
   "execution_count": 14,
   "metadata": {},
   "outputs": [
    {
     "name": "stdout",
     "output_type": "stream",
     "text": [
      "what will happen now?\n",
      "what will happen now?I guess it will work now.\n"
     ]
    }
   ],
   "source": [
    "file_name = 'prgraomming.txt'\n",
    "\n",
    "with open(file_name, 'w') as file_objects:\n",
    "    file_objects.write(\"I love programming.\")\n",
    "    file_objects.write(\"It is so much fun.\")\n",
    "    \n",
    "with open (file_name, 'w') as file_objects:\n",
    "    file_objects.write(\"what will happen now?\")\n",
    "    \n",
    "with open (file_name) as file_objects:\n",
    "    print(file_objects.read())\n",
    "    \n",
    "with open(file_name, 'a') as file_objects:\n",
    "    file_objects.write(\"I guess it will work now.\")\n",
    "#     print(file_objects.read()) # cannot write and read at the same time\n",
    "\n",
    "with open (file_name) as file_objects:\n",
    "    print(file_objects.read())"
   ]
  },
  {
   "cell_type": "code",
   "execution_count": 19,
   "metadata": {},
   "outputs": [
    {
     "name": "stdout",
     "output_type": "stream",
     "text": [
      "The denominator can't be zero!\n",
      "ha\n"
     ]
    }
   ],
   "source": [
    "try:\n",
    "    print(5/0)\n",
    "except ZeroDivisionError:\n",
    "     print(\"The denominator can't be zero!\")\n",
    "    \n",
    "print(\"ha\")"
   ]
  },
  {
   "cell_type": "code",
   "execution_count": 3,
   "metadata": {},
   "outputs": [
    {
     "name": "stdout",
     "output_type": "stream",
     "text": [
      "[1, 2, 3, 4, 5]\n"
     ]
    }
   ],
   "source": [
    "import json\n",
    "num = [1,2,3,4,5]\n",
    "\n",
    "file_name = \"numbers.json\"\n",
    "with open(file_name, 'w') as fileobj:\n",
    "    json.dump(num, fileobj)\n",
    "    \n",
    "with open(file_name) as hmm:\n",
    "    no = json.load(hmm)\n",
    "    \n",
    "print(no)"
   ]
  },
  {
   "cell_type": "code",
   "execution_count": 3,
   "metadata": {},
   "outputs": [
    {
     "name": "stdout",
     "output_type": "stream",
     "text": [
      "What is your name? V\n",
      "We will remember you when you come back, V!\n",
      "Welcome back, V!\n"
     ]
    }
   ],
   "source": [
    "import json\n",
    "\n",
    "file_name = 'username.json'\n",
    "\n",
    "user_name = input(\"What is your name? \")\n",
    "\n",
    "with open(file_name, 'w') as file_obs:\n",
    "    json.dump(user_name, file_obs)\n",
    "    print(\"We will remember you when you come back, \" + user_name + \"!\")\n",
    "    \n",
    "with open(file_name) as fi_ob:\n",
    "    u_name = json.load(fi_ob)\n",
    "    print(\"Welcome back, \" + u_name + '!')\n",
    "    "
   ]
  },
  {
   "cell_type": "code",
   "execution_count": 2,
   "metadata": {},
   "outputs": [
    {
     "name": "stdout",
     "output_type": "stream",
     "text": [
      "[1, 4, 3, 8, 7, 2, 1, 5, 5, 1, 2, 3, 8, 5, 1, 3, 8, 2, 8, 2, 4, 7, 6, 5, 1, 1, 2, 7, 7, 6, 6, 7, 3, 2, 3, 2, 6, 5, 6, 3, 7, 1, 1, 1, 4, 5, 2, 6, 6, 6, 6, 4, 5, 4, 6, 7, 2, 4, 6, 4, 7, 1, 5, 7, 8, 2, 4, 3, 7, 8, 4, 5, 2, 2, 7, 6, 5, 4, 5, 3, 1, 7, 3, 8, 8, 8, 4, 2, 6, 5, 2, 6, 5, 2, 6, 4, 6, 3, 3, 3, 3, 1, 2, 7, 8, 2, 5, 1, 4, 7, 1, 3, 3, 6, 2, 4, 3, 6, 5, 7, 8, 5, 6, 3, 6, 3, 6, 7, 5, 2, 3, 4, 7, 1, 6, 8, 3, 5, 1, 7, 8, 2, 7, 4, 1, 4, 8, 2, 2, 6, 1, 6, 7, 1, 1, 1, 4, 2, 2, 6, 4, 4, 2, 1, 2, 8, 2, 8, 3, 7, 3, 7, 6, 1, 7, 4, 3, 3, 6, 7, 8, 5, 2, 4, 3, 3, 8, 8, 4, 2, 4, 3, 5, 1, 8, 6, 3, 1, 1, 7, 3, 8, 8, 4, 7, 8, 3, 4, 5, 5, 7, 1, 2, 8, 6, 2, 7, 2, 1, 6, 4, 5, 7, 3, 1, 1, 4, 3, 7, 7, 7, 2, 1, 4, 5, 8, 5, 5, 1, 6, 8, 1, 1, 6, 1, 8, 4, 7, 3, 8, 7, 1, 3, 8, 2, 2, 5, 7, 4, 4, 2, 2, 6, 2, 3, 2, 5, 3, 6, 1, 6, 4, 6, 6, 5, 7, 7, 1, 3, 5, 4, 6, 4, 7, 8, 6, 5, 4, 1, 1, 5, 1, 1, 6, 7, 5, 5, 7, 6, 4, 3, 4, 5, 6, 4, 1, 4, 5, 8, 4, 2, 8, 1, 8, 8, 6, 6, 1, 8, 8, 3, 6, 3, 4, 1, 2, 7, 4, 6, 7, 3, 3, 7, 7, 1, 8, 2, 4, 1, 8, 3, 7, 3, 5, 4, 4, 6, 6, 5, 2, 6, 1, 8, 4, 5, 2, 4, 6, 6, 8, 2, 3, 2, 6, 4, 3, 8, 4, 4, 6, 6, 8, 1, 7, 8, 4, 4, 7, 5, 2, 6, 8, 2, 7, 1, 5, 4, 3, 3, 8, 7, 5, 5, 8, 7, 3, 3, 2, 6, 6, 7, 6, 1, 3, 6, 8, 7, 4, 6, 2, 5, 5, 7, 3, 2, 8, 5, 2, 8, 1, 3, 8, 2, 1, 7, 8, 6, 1, 8, 4, 6, 4, 6, 4, 6, 1, 4, 7, 4, 6, 4, 7, 2, 6, 8, 1, 5, 1, 3, 8, 5, 1, 7, 6, 8, 7, 5, 6, 1, 1, 7, 4, 5, 3, 5, 5, 5, 3, 6, 3, 7, 8, 3, 4, 5, 5, 1, 1, 3, 7, 7, 5, 2, 4, 3, 2, 6, 6, 6, 2, 1, 6, 8, 5, 7, 7, 8, 8, 7, 8, 4, 5, 3, 6, 4, 8, 2, 2, 2, 1, 7, 7, 8, 1, 6, 2, 6, 6, 1, 8, 4, 3, 6, 1, 4, 4, 6, 2, 1, 7, 6, 7, 1, 2, 1, 6, 7, 7, 3, 2, 5, 5, 4, 5, 6, 6, 1, 3, 6, 7, 1, 6, 6, 3, 6, 7, 3, 6, 4, 3, 5, 1, 8, 8, 1, 5, 4, 2, 2, 6, 4, 7, 2, 8, 8, 8, 4, 5, 7, 5, 7, 8, 8, 7, 5, 8, 3, 7, 7, 2, 5, 2, 5, 2, 3, 6, 7, 1, 6, 6, 3, 1, 2, 2, 3, 7, 4, 8, 3, 4, 2, 5, 7, 8, 1, 1, 8, 8, 1, 2, 8, 8, 4, 4, 5, 5, 3, 1, 4, 8, 3, 1, 8, 4, 8, 4, 3, 8, 5, 8, 8, 5, 2, 6, 8, 8, 5, 3, 4, 3, 4, 4, 3, 6, 6, 4, 7, 1, 1, 6, 4, 7, 8, 3, 7, 6, 4, 6, 3, 8, 4, 7, 6, 1, 7, 1, 4, 6, 1, 2, 6, 3, 2, 8, 4, 1, 8, 7, 4, 7, 2, 3, 4, 8, 5, 6, 1, 4, 7, 1, 3, 5, 6, 1, 8, 3, 6, 1, 8, 3, 5, 5, 4, 8, 2, 4, 1, 2, 4, 7, 8, 5, 2, 6, 1, 5, 4, 2, 4, 1, 6, 8, 3, 3, 5, 1, 8, 6, 3, 3, 8, 1, 2, 8, 4, 4, 7, 4, 7, 4, 4, 5, 7, 3, 3, 7, 5, 8, 4, 3, 2, 4, 2, 7, 8, 7, 8, 8, 6, 6, 3, 7, 6, 7, 5, 8, 3, 2, 3, 7, 1, 6, 6, 3, 1, 6, 5, 8, 8, 6, 4, 8, 8, 2, 3, 5, 4, 8, 6, 7, 1, 4, 3, 3, 4, 8, 6, 3, 1, 5, 5, 7, 8, 8, 4, 8, 7, 3, 3, 6, 3, 6, 2, 6, 5, 6, 2, 8, 8, 8, 1, 5, 4, 3, 7, 1, 8, 3, 4, 5, 7, 5, 2, 2, 2, 2, 8, 7, 7, 5, 6, 1, 2, 2, 3, 5, 1, 8, 4, 8, 1, 3, 2, 5, 7, 4, 6, 1, 6, 3, 5, 3, 7, 2, 3, 5, 1, 5, 1, 3, 5, 7, 6, 2, 7, 2, 3, 8, 1, 5, 5, 2, 5, 5, 3, 8, 7, 4, 6, 2, 1, 4, 7, 5, 2, 6, 4, 5, 2, 3, 1, 5, 8, 4, 7, 6, 1, 4, 8, 6, 5, 7, 4, 6, 8, 8, 8, 7, 6, 2, 4, 8, 3, 3, 3, 7, 3, 8, 2, 8, 6, 8, 8, 5, 6, 4, 1, 2, 6, 4, 2, 8, 3, 8, 8, 4, 1, 4, 8, 1, 7, 1, 3, 2, 1, 5, 5, 7, 2, 3, 8, 6, 6, 1, 4, 4, 5, 2, 8, 3, 8, 5, 1, 2, 1, 6, 8, 7, 1, 3, 5, 3, 1, 4, 4, 3, 3, 5, 2, 3]\n"
     ]
    }
   ],
   "source": [
    "from die import Die\n",
    "\n",
    "# create an instance by calling the method\n",
    "die = Die(8)\n",
    "\n",
    "results = []\n",
    "for roll in range(1000):\n",
    "    result = die.roll()\n",
    "    results.append(result)\n",
    "    \n",
    "print(results)"
   ]
  },
  {
   "cell_type": "code",
   "execution_count": 3,
   "metadata": {},
   "outputs": [
    {
     "name": "stdout",
     "output_type": "stream",
     "text": [
      "[123, 112, 127, 129, 114, 136, 120, 139]\n"
     ]
    }
   ],
   "source": [
    "frequencies = []\n",
    "\n",
    "for i in range(1, die.num_sides+1): # name 'num_sides' is not defined  -> die.num_sides\n",
    "    a = results.count(i)\n",
    "    frequencies.append(a)\n",
    "    \n",
    "print(frequencies)"
   ]
  },
  {
   "cell_type": "code",
   "execution_count": 5,
   "metadata": {},
   "outputs": [],
   "source": [
    "import pygal\n",
    "\n",
    "myHistogram = pygal.Bar()\n",
    "\n",
    "myHistogram.title = 'Results of D8 die rolling 1000 times'\n",
    "myHistogram.x_lables = [1,2,3,4,5,6,7,8]\n",
    "myHistogram.x_title = 'Result'\n",
    "myHistogram.y_title = 'Frequency'\n",
    "\n",
    "myHistogram.add('D8', frequencies)\n",
    "myHistogram.render_to_file('die_histogram.svg')\n",
    "# myHistogram.render()"
   ]
  }
 ],
 "metadata": {
  "kernelspec": {
   "display_name": "Python 3",
   "language": "python",
   "name": "python3"
  },
  "language_info": {
   "codemirror_mode": {
    "name": "ipython",
    "version": 3
   },
   "file_extension": ".py",
   "mimetype": "text/x-python",
   "name": "python",
   "nbconvert_exporter": "python",
   "pygments_lexer": "ipython3",
   "version": "3.7.1"
  }
 },
 "nbformat": 4,
 "nbformat_minor": 2
}
