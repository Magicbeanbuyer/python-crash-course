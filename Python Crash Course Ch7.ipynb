{
 "cells": [
  {
   "cell_type": "code",
   "execution_count": 3,
   "metadata": {},
   "outputs": [
    {
     "name": "stdout",
     "output_type": "stream",
     "text": [
      "tell me smth: afdaf\n",
      "afdaf\n"
     ]
    }
   ],
   "source": [
    "message = input(\"tell me smth: \")\n",
    "print(message)"
   ]
  },
  {
   "cell_type": "code",
   "execution_count": 11,
   "metadata": {},
   "outputs": [
    {
     "name": "stdout",
     "output_type": "stream",
     "text": [
      "Morning! \n",
      " \twhat's up?\n",
      "morning!\n",
      " \twhat's up?\n",
      "Morning! \n",
      " \twhat's up?\n"
     ]
    }
   ],
   "source": [
    "text = \"Morning! \\n \\twhat's up?\"\n",
    "print(text)\n",
    "text1 = \"morning!\"\n",
    "text1 += \"\\n \\twhat's up?\"\n",
    "print(text1)\n",
    "message = (text)\n",
    "print(message)"
   ]
  },
  {
   "cell_type": "code",
   "execution_count": 15,
   "metadata": {},
   "outputs": [
    {
     "name": "stdout",
     "output_type": "stream",
     "text": [
      "tell me your height (in cm): 160\n",
      "you have to buy a ticket\n"
     ]
    }
   ],
   "source": [
    "height = input(\"tell me your height (in cm): \")\n",
    "height = int(height)\n",
    "\n",
    "if height > 150:\n",
    "    print(\"you have to buy a ticket\")\n",
    "else:\n",
    "    print(\"it is for free\")"
   ]
  },
  {
   "cell_type": "code",
   "execution_count": 3,
   "metadata": {},
   "outputs": [
    {
     "name": "stdout",
     "output_type": "stream",
     "text": [
      "1\n",
      "2\n",
      "3\n",
      "4\n",
      "5\n"
     ]
    }
   ],
   "source": [
    "num = 1\n",
    "while num <= 5:\n",
    "    print(num)\n",
    "    num += 1"
   ]
  },
  {
   "cell_type": "code",
   "execution_count": null,
   "metadata": {},
   "outputs": [],
   "source": []
  },
  {
   "cell_type": "code",
   "execution_count": null,
   "metadata": {},
   "outputs": [],
   "source": [
    "prompt = \"\\n tell me smth:\"\n",
    "prompt += \"enter 'quit' to terminate\"\n",
    "\n",
    "message = \"\"\n",
    "while message != 'quit' :\n",
    "    message = input(prompt)\n",
    "    print(message)"
   ]
  }
 ],
 "metadata": {
  "kernelspec": {
   "display_name": "Python 3",
   "language": "python",
   "name": "python3"
  },
  "language_info": {
   "codemirror_mode": {
    "name": "ipython",
    "version": 3
   },
   "file_extension": ".py",
   "mimetype": "text/x-python",
   "name": "python",
   "nbconvert_exporter": "python",
   "pygments_lexer": "ipython3",
   "version": "3.7.1"
  }
 },
 "nbformat": 4,
 "nbformat_minor": 2
}
