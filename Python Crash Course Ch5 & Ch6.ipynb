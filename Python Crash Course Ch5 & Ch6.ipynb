{
 "cells": [
  {
   "cell_type": "code",
   "execution_count": 3,
   "metadata": {},
   "outputs": [
    {
     "name": "stdout",
     "output_type": "stream",
     "text": [
      "5\n",
      "10\n"
     ]
    }
   ],
   "source": [
    "a = 15\n",
    "if a > 5:\n",
    "    print(\"5\")\n",
    "if a > 10:\n",
    "    print(\"10\")\n",
    "else:\n",
    "    print(\"e\")"
   ]
  },
  {
   "cell_type": "code",
   "execution_count": 5,
   "metadata": {},
   "outputs": [
    {
     "name": "stdout",
     "output_type": "stream",
     "text": [
      "5\n"
     ]
    }
   ],
   "source": [
    "if a > 5:\n",
    "    print(\"5\")\n",
    "elif a > 10:\n",
    "    print(\"10\")\n",
    "else:\n",
    "    print(\"e\")"
   ]
  },
  {
   "cell_type": "code",
   "execution_count": 7,
   "metadata": {},
   "outputs": [
    {
     "name": "stdout",
     "output_type": "stream",
     "text": [
      "20\n"
     ]
    }
   ],
   "source": [
    "if a < 5:\n",
    "    print(\"5\")\n",
    "elif a < 10:\n",
    "    print(\"10\")\n",
    "elif a < 20:\n",
    "    print(\"20\")\n",
    "else:\n",
    "    print(\"e\")"
   ]
  },
  {
   "cell_type": "code",
   "execution_count": 1,
   "metadata": {},
   "outputs": [
    {
     "ename": "NameError",
     "evalue": "name 'a' is not defined",
     "output_type": "error",
     "traceback": [
      "\u001b[1;31m---------------------------------------------------------------------------\u001b[0m",
      "\u001b[1;31mNameError\u001b[0m                                 Traceback (most recent call last)",
      "\u001b[1;32m<ipython-input-1-b39c16630414>\u001b[0m in \u001b[0;36m<module>\u001b[1;34m\u001b[0m\n\u001b[1;32m----> 1\u001b[1;33m \u001b[1;32mif\u001b[0m \u001b[0ma\u001b[0m \u001b[1;33m>\u001b[0m \u001b[1;36m5\u001b[0m\u001b[1;33m:\u001b[0m\u001b[1;33m\u001b[0m\u001b[1;33m\u001b[0m\u001b[0m\n\u001b[0m\u001b[0;32m      2\u001b[0m     \u001b[0mprint\u001b[0m \u001b[1;33m(\u001b[0m\u001b[1;34m\"5\"\u001b[0m\u001b[1;33m)\u001b[0m\u001b[1;33m\u001b[0m\u001b[1;33m\u001b[0m\u001b[0m\n",
      "\u001b[1;31mNameError\u001b[0m: name 'a' is not defined"
     ]
    }
   ],
   "source": [
    "if a > 5:\n",
    "    print (\"5\")"
   ]
  },
  {
   "cell_type": "code",
   "execution_count": 6,
   "metadata": {},
   "outputs": [
    {
     "name": "stdout",
     "output_type": "stream",
     "text": [
      "da\n"
     ]
    }
   ],
   "source": [
    "empty_list = []\n",
    "if empty_list:\n",
    "    print(\"ha!\")\n",
    "else:\n",
    "    print(\"da\")"
   ]
  },
  {
   "cell_type": "code",
   "execution_count": 10,
   "metadata": {},
   "outputs": [
    {
     "data": {
      "text/plain": [
       "(1, 2, 3, 4, 5, 6, 7, 8, 9, 10)"
      ]
     },
     "execution_count": 10,
     "metadata": {},
     "output_type": "execute_result"
    }
   ],
   "source": [
    "numbers_list = [i for i in range(1,11)]\n",
    "numbers_list\n",
    "numbers_tuple = tuple(numbers_list)\n",
    "numbers_tuple"
   ]
  },
  {
   "cell_type": "code",
   "execution_count": 13,
   "metadata": {},
   "outputs": [
    {
     "name": "stdout",
     "output_type": "stream",
     "text": [
      "add mushrooms\n",
      "sorry we don't have french fries\n",
      "add extra cheese\n",
      "\n",
      "done!\n"
     ]
    }
   ],
   "source": [
    "available_toppings = ['mushrooms', 'olives', 'green peppers','pepperoni', 'pineapple', 'extra cheese']\n",
    "requested_toppings = ['mushrooms', 'french fries', 'extra cheese']\n",
    "for requested_topping in requested_toppings:\n",
    "    if requested_topping in available_toppings:\n",
    "        print(\"add \"+requested_topping)\n",
    "    if requested_topping not in available_toppings:\n",
    "        print(\"sorry we don't have \"+requested_topping )\n",
    "print(\"\\ndone!\")"
   ]
  },
  {
   "cell_type": "code",
   "execution_count": 20,
   "metadata": {},
   "outputs": [
    {
     "name": "stdout",
     "output_type": "stream",
     "text": [
      "{'color': 'grean', 'points': 5}\n",
      "{'color': 'grean', 'points': 5, 'x_axis': 0, 'y_axis': 25}\n",
      "{'color': 'grean', 'points': 5, 'x_axis': 0, 'y_axis': 25, 'address': {'planet': 'mars', 'post code': 123}}\n"
     ]
    }
   ],
   "source": [
    "alien_0 = {'color':'grean', 'points':5}\n",
    "print(alien_0)\n",
    "alien_0['x_axis']=0\n",
    "alien_0['y_axis']=25\n",
    "print(alien_0)\n",
    "alien_0['address']={'planet':'mars','post code':123}\n",
    "print(alien_0)\n",
    "# print(alien_0['address':'planet'])"
   ]
  },
  {
   "cell_type": "code",
   "execution_count": 23,
   "metadata": {},
   "outputs": [
    {
     "name": "stdout",
     "output_type": "stream",
     "text": [
      "{'color': 'yellow', 'points': 5, 'x_axis': 0, 'y_axis': 25, 'address': {'planet': 'mars', 'post code': 123}}\n"
     ]
    }
   ],
   "source": [
    "alien_0['color'] = 'yellow'\n",
    "print(alien_0)"
   ]
  },
  {
   "cell_type": "code",
   "execution_count": 27,
   "metadata": {},
   "outputs": [
    {
     "name": "stdout",
     "output_type": "stream",
     "text": [
      "start position: 4\n",
      "current position: 6\n"
     ]
    }
   ],
   "source": [
    "alien_0['speed'] = 'medium'\n",
    "print('start position: ' + str(alien_0['x_axis']))\n",
    "\n",
    "if alien_0['speed'] == 'low':\n",
    "    x_incremental = 1\n",
    "if alien_0['speed'] == 'medium':\n",
    "    x_incremental = 2\n",
    "else:\n",
    "    x_incremental = 3\n",
    "\n",
    "alien_0['x_axis'] = alien_0['x_axis'] + x_incremental\n",
    "\n",
    "print('current position: ' + str(alien_0['x_axis']))"
   ]
  },
  {
   "cell_type": "code",
   "execution_count": 5,
   "metadata": {},
   "outputs": [
    {
     "name": "stdout",
     "output_type": "stream",
     "text": [
      "\n",
      "Key: username\n",
      "\n",
      "Value: efermi\n",
      "\n",
      "Key: first\n",
      "\n",
      "Value: enrico\n",
      "\n",
      "Key: last\n",
      "\n",
      "Value: fermi\n"
     ]
    }
   ],
   "source": [
    "user_0 = {\n",
    "'username': 'efermi',\n",
    "'first': 'enrico',\n",
    "'last': 'fermi',\n",
    "}\n",
    "\n",
    "for a, b in user_0.items():\n",
    "    print(\"\\nKey: \" + a)\n",
    "    print(\"\\nValue: \" + b)\n",
    "\n",
    "# for key, value in user_0:\n",
    "#     print(\"\\nKey: \" + key)\n",
    "#     print(\"\\Value: \" + value)"
   ]
  },
  {
   "cell_type": "code",
   "execution_count": 9,
   "metadata": {},
   "outputs": [
    {
     "name": "stdout",
     "output_type": "stream",
     "text": [
      "dict_items([('username', 'efermi'), ('first', 'enrico'), ('last', 'fermi')])\n"
     ]
    }
   ],
   "source": [
    "user_list = user_0.items()\n",
    "print(user_list)"
   ]
  },
  {
   "cell_type": "code",
   "execution_count": 12,
   "metadata": {},
   "outputs": [
    {
     "name": "stdout",
     "output_type": "stream",
     "text": [
      "Username\n",
      "First\n",
      "Last\n"
     ]
    }
   ],
   "source": [
    "for key in user_0.keys():\n",
    "    print(key.title())"
   ]
  },
  {
   "cell_type": "code",
   "execution_count": 14,
   "metadata": {},
   "outputs": [
    {
     "name": "stdout",
     "output_type": "stream",
     "text": [
      "username\n",
      "first\n",
      "last\n"
     ]
    }
   ],
   "source": [
    "for key in user_0:\n",
    "    print(key)"
   ]
  },
  {
   "cell_type": "code",
   "execution_count": 1,
   "metadata": {},
   "outputs": [
    {
     "name": "stdout",
     "output_type": "stream",
     "text": [
      "jen likes python\n",
      "phil likes python\n"
     ]
    }
   ],
   "source": [
    "favorite_languages = {\n",
    "'jen': 'python',\n",
    "'sarah': 'c',\n",
    "'edward': 'ruby',\n",
    "'phil': 'python',\n",
    "}\n",
    "\n",
    "friends = ('jen', 'Sarah','phil')\n",
    "\n",
    "# for name, language in favorite_languages.items():\n",
    "#     if name in friends:\n",
    "#         print(name + \" likes \" + language)\n",
    "\n",
    "for name in favorite_languages:\n",
    "    if name in friends:\n",
    "        print(name + \" likes \" + favorite_languages[name])\n",
    "#     if friends.items() not in name:\n",
    "#         print(friends.items())"
   ]
  },
  {
   "cell_type": "code",
   "execution_count": 20,
   "metadata": {},
   "outputs": [
    {
     "name": "stdout",
     "output_type": "stream",
     "text": [
      "appen:\n",
      "\tadd value to a list\n",
      "print:\n",
      "\tprint the output\n",
      "title:\n",
      "\tcapitalize first letter of each word\n",
      "if:\n",
      "\ttest statement\n",
      "items:\n",
      "\tto get key-value pairs in a dictionary\n"
     ]
    }
   ],
   "source": [
    "glossary = {\n",
    "    'appen':'add value to a list'\n",
    "    , 'print':'print the output'\n",
    "    , 'title':'capitalize first letter of each word'\n",
    "    , 'if':'test statement'\n",
    "    , 'items':'to get key-value pairs in a dictionary'\n",
    "}\n",
    "\n",
    "for word in glossary:\n",
    "    print(word + ':\\n' + '\\t' +  glossary[word]) # word is the variable name, there for NO ''"
   ]
  },
  {
   "cell_type": "code",
   "execution_count": 19,
   "metadata": {},
   "outputs": [
    {
     "name": "stdout",
     "output_type": "stream",
     "text": [
      "c\n"
     ]
    }
   ],
   "source": [
    "favorite_languages = {\n",
    "    'jen': 'python',\n",
    "    'sarah': 'c',\n",
    "    'edward': 'ruby',\n",
    "    'phil': 'python',\n",
    "}\n",
    "print(favorite_languages['sarah']) # sarah is the key name, therefore YES ''"
   ]
  },
  {
   "cell_type": "code",
   "execution_count": 23,
   "metadata": {},
   "outputs": [
    {
     "name": "stdout",
     "output_type": "stream",
     "text": [
      "{'color': 'green', 'points': 5}\n",
      "{'color': 'yellow', 'points': 10}\n",
      "{'color': 'red', 'points': 15}\n"
     ]
    }
   ],
   "source": [
    "alien_0 = {'color': 'green', 'points': 5}\n",
    "alien_1 = {'color': 'yellow', 'points': 10}\n",
    "alien_2 = {'color': 'red', 'points': 15}\n",
    "\n",
    "aliens = [alien_0, alien_1, alien_2]\n",
    "\n",
    "for alien in aliens:\n",
    "    print(alien)"
   ]
  },
  {
   "cell_type": "code",
   "execution_count": 33,
   "metadata": {},
   "outputs": [
    {
     "name": "stdout",
     "output_type": "stream",
     "text": [
      "{'color': 'pink', 'points': 2.5, 'speed': 'high'}\n",
      "{'color': 'pink', 'points': 2.5, 'speed': 'high'}\n",
      "{'color': 'pink', 'points': 2.5, 'speed': 'high'}\n",
      "{'color': 'pink', 'points': 2.5, 'speed': 'high'}\n",
      "{'color': 'pink', 'points': 2.5, 'speed': 'high'}\n",
      "\n",
      "Total # of aliens: 30\n"
     ]
    }
   ],
   "source": [
    "aliens = []\n",
    "\n",
    "for i in range(30):\n",
    "    new_alien = {'color':'pink', 'points':2.5, 'speed':'high'}\n",
    "    aliens.append(new_alien)\n",
    "    \n",
    "for alien in aliens[0:5]:\n",
    "    print(alien) #print aliens you will get five times the WHOLE aliens list printed\n",
    "    \n",
    "print('\\nTotal # of aliens: ' + str(len(aliens)))"
   ]
  },
  {
   "cell_type": "code",
   "execution_count": 34,
   "metadata": {},
   "outputs": [
    {
     "name": "stdout",
     "output_type": "stream",
     "text": [
      "[{'color': 'yellow', 'points': 10, 'speed': 'high'}, {'color': 'yellow', 'points': 10, 'speed': 'high'}, {'color': 'yellow', 'points': 10, 'speed': 'high'}, {'color': 'pink', 'points': 2.5, 'speed': 'high'}]\n"
     ]
    }
   ],
   "source": [
    "for alien in aliens[:3]: # 3!!!!! not 4\n",
    "    alien['color'] = 'yellow'\n",
    "    alien['points'] = 10\n",
    "    \n",
    "print(aliens[:4])"
   ]
  }
 ],
 "metadata": {
  "kernelspec": {
   "display_name": "Python 3",
   "language": "python",
   "name": "python3"
  },
  "language_info": {
   "codemirror_mode": {
    "name": "ipython",
    "version": 3
   },
   "file_extension": ".py",
   "mimetype": "text/x-python",
   "name": "python",
   "nbconvert_exporter": "python",
   "pygments_lexer": "ipython3",
   "version": "3.7.1"
  }
 },
 "nbformat": 4,
 "nbformat_minor": 2
}
