{
 "cells": [
  {
   "cell_type": "code",
   "execution_count": null,
   "metadata": {},
   "outputs": [],
   "source": [
    "import json\n",
    "\n",
    "def get_new_username():\n",
    "    \"\"\"Promot for a new username.\"\"\"\n",
    "    username = input(\"What's your name?\")\n",
    "    file_name = 'username.json'\n",
    "    with open(file_name, 'w') as file_objects:\n",
    "        json.dump(username, file_objects)\n",
    "#         print(\"We will remember you when you are back, \" + username + \", take care!\")\n",
    "        return username\n",
    "        \n"
   ]
  }
 ],
 "metadata": {
  "kernelspec": {
   "display_name": "Python 3",
   "language": "python",
   "name": "python3"
  },
  "language_info": {
   "codemirror_mode": {
    "name": "ipython",
    "version": 3
   },
   "file_extension": ".py",
   "mimetype": "text/x-python",
   "name": "python",
   "nbconvert_exporter": "python",
   "pygments_lexer": "ipython3",
   "version": "3.7.1"
  }
 },
 "nbformat": 4,
 "nbformat_minor": 2
}
