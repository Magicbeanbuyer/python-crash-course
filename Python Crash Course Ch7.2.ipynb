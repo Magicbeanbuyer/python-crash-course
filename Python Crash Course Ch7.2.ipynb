{
 "cells": [
  {
   "cell_type": "code",
   "execution_count": 3,
   "metadata": {},
   "outputs": [
    {
     "name": "stdout",
     "output_type": "stream",
     "text": [
      "\n",
      "tell me smth: \n",
      "say 'quit' to quit ahah\n",
      "ahah\n",
      "\n",
      "tell me smth: \n",
      "say 'quit' to quit quit\n"
     ]
    }
   ],
   "source": [
    "prompt = \"\\ntell me smth: \"\n",
    "prompt += \"\\nsay 'quit' to quit \"\n",
    "\n",
    "message = \"\"\n",
    "\n",
    "while message != 'quit':\n",
    "    message = input(prompt)\n",
    "    \n",
    "    if message!= 'quit':\n",
    "        print(message)"
   ]
  },
  {
   "cell_type": "code",
   "execution_count": 6,
   "metadata": {},
   "outputs": [
    {
     "name": "stdout",
     "output_type": "stream",
     "text": [
      "\n",
      "tell me smth: \n",
      "say 'quit' to quit alala\n",
      "alala\n",
      "\n",
      "tell me smth: \n",
      "say 'quit' to quit quit\n"
     ]
    }
   ],
   "source": [
    "prompt = \"\\ntell me smth: \"\n",
    "prompt += \"\\nsay 'quit' to quit \"\n",
    "\n",
    "# message = \"\"\n",
    "a_flag = True\n",
    "\n",
    "while a_flag:\n",
    "    message = input(prompt)\n",
    "    \n",
    "    if message == 'quit':\n",
    "        a_flag = False\n",
    "    else:\n",
    "        print(message)"
   ]
  },
  {
   "cell_type": "code",
   "execution_count": 2,
   "metadata": {},
   "outputs": [
    {
     "name": "stdout",
     "output_type": "stream",
     "text": [
      "tell me where you want to visit: \n",
      "enter 'quit' to stopiceland\n",
      "Let's go to Iceland\n",
      "tell me where you want to visit: \n",
      "enter 'quit' to stopquit\n"
     ]
    }
   ],
   "source": [
    "greeting = \"tell me where you want to visit: \"\n",
    "greeting += \"\\nenter 'quit' to stop\"\n",
    "\n",
    "\n",
    "while True:\n",
    "    place = input(greeting)\n",
    "    \n",
    "    if place == 'quit':\n",
    "        break\n",
    "    else:\n",
    "        print(\"Let's go to \" + place.title())"
   ]
  },
  {
   "cell_type": "code",
   "execution_count": 4,
   "metadata": {},
   "outputs": [
    {
     "name": "stdout",
     "output_type": "stream",
     "text": [
      "6\n",
      "9\n",
      "12\n",
      "15\n"
     ]
    }
   ],
   "source": [
    "num = 4\n",
    "while num > 3 and num < 15:\n",
    "    num += 1\n",
    "    if num % 3 != 0:\n",
    "        continue\n",
    "    print(num)"
   ]
  },
  {
   "cell_type": "code",
   "execution_count": 8,
   "metadata": {},
   "outputs": [
    {
     "name": "stdout",
     "output_type": "stream",
     "text": [
      "4\n"
     ]
    }
   ],
   "source": [
    "x = 4\n",
    "# while x < 10:\n",
    "print(x)"
   ]
  },
  {
   "cell_type": "code",
   "execution_count": 14,
   "metadata": {},
   "outputs": [
    {
     "name": "stdout",
     "output_type": "stream",
     "text": [
      "[1, 2, 3, 4, 5]\n",
      "removing num: 5\n",
      "removing num: 4\n",
      "removing num: 3\n",
      "removing num: 2\n",
      "removing num: 1\n",
      "5\n",
      "4\n",
      "3\n",
      "2\n",
      "1\n"
     ]
    }
   ],
   "source": [
    "a =[i for i in range(1,6)]\n",
    "print(a)\n",
    "b = []\n",
    "\n",
    "while a:\n",
    "    num = a.pop()\n",
    "    \n",
    "    print(\"removing num: \" + str(num))\n",
    "    \n",
    "    b.append(num)\n",
    "    \n",
    "for i in b:\n",
    "    print(i)"
   ]
  },
  {
   "cell_type": "code",
   "execution_count": 19,
   "metadata": {},
   "outputs": [
    {
     "name": "stdout",
     "output_type": "stream",
     "text": [
      "5\n",
      "4\n",
      "3\n",
      "2\n",
      "1\n"
     ]
    }
   ],
   "source": [
    "for ai in a:\n",
    "    num = a.pop()\n",
    "    \n",
    "    print(\"remove: \" + str(num))\n",
    "    \n",
    "    b.append(num)\n",
    "\n",
    "for bi in b:\n",
    "    print(bi)"
   ]
  },
  {
   "cell_type": "code",
   "execution_count": 4,
   "metadata": {},
   "outputs": [
    {
     "name": "stdout",
     "output_type": "stream",
     "text": [
      "['dog', 'dog', 'goldfish', 'rabbit']\n"
     ]
    }
   ],
   "source": [
    "pets = ['dog', 'cat', 'dog', 'goldfish', 'cat', 'rabbit', 'cat']\n",
    "\n",
    "remove_pet = 'cat'\n",
    "\n",
    "while remove_pet in pets:\n",
    "    pets.remove(remove_pet)\n",
    "\n",
    "print(pets)"
   ]
  },
  {
   "cell_type": "code",
   "execution_count": 7,
   "metadata": {},
   "outputs": [
    {
     "name": "stdout",
     "output_type": "stream",
     "text": [
      "What's your name? Haul\n",
      "what's your dream?Safe\n",
      "anyone else? (Y/N)N\n",
      "\n",
      "+++survey+++\n",
      "Haul's dream is Safe\n"
     ]
    }
   ],
   "source": [
    "polling_flag = True\n",
    "\n",
    "survey = {}\n",
    "\n",
    "while polling_flag:\n",
    "    name = input(\"What's your name? \")\n",
    "    dream = input(\"what's your dream?\")\n",
    "    \n",
    "    survey[name] = dream\n",
    "\n",
    "# while polling_flag:\n",
    "    check = input(\"anyone else? (Y/N)\")\n",
    "    \n",
    "    if check == \"N\":\n",
    "        polling_flag = False\n",
    "        \n",
    "print(\"\\n+++survey+++\")\n",
    "for name, dream in survey.items():\n",
    "    print(name + \"'s dream is \" + dream)\n",
    "        "
   ]
  },
  {
   "cell_type": "code",
   "execution_count": null,
   "metadata": {},
   "outputs": [],
   "source": []
  }
 ],
 "metadata": {
  "kernelspec": {
   "display_name": "Python 3",
   "language": "python",
   "name": "python3"
  },
  "language_info": {
   "codemirror_mode": {
    "name": "ipython",
    "version": 3
   },
   "file_extension": ".py",
   "mimetype": "text/x-python",
   "name": "python",
   "nbconvert_exporter": "python",
   "pygments_lexer": "ipython3",
   "version": "3.7.1"
  }
 },
 "nbformat": 4,
 "nbformat_minor": 2
}
