{
 "cells": [
  {
   "cell_type": "code",
   "execution_count": 2,
   "metadata": {},
   "outputs": [],
   "source": [
    "class Dog():\n",
    "    \"\"\"To model dogs.\"\"\"\n",
    "    \n",
    "    def __init__(self,name,age):\n",
    "        \"\"\"Initialize name and age attributes.\"\"\"\n",
    "        self.name = name\n",
    "        self.age = age\n",
    "        \n",
    "    def sit(self):\n",
    "        \"\"\"Simulate a dog sitting.\"\"\"\n",
    "        print(self.name.title() + \" is now sitting.\")\n",
    "        \n",
    "    def roll_over(self):\n",
    "        \"\"\"Simulate a dog rolling over.\"\"\"\n",
    "        print(self.name.title() + \", roll over!\")"
   ]
  },
  {
   "cell_type": "code",
   "execution_count": 3,
   "metadata": {},
   "outputs": [
    {
     "name": "stdout",
     "output_type": "stream",
     "text": [
      "Mein Hunt heißt Doudou.\n",
      "Er ist 5 Jahre alt.\n"
     ]
    }
   ],
   "source": [
    "my_dog = Dog(\"doudou\", 5)\n",
    "\n",
    "print(\"Mein Hunt heißt \" + my_dog.name.title() + '.')\n",
    "print(\"Er ist \" + str(my_dog.age) + \" Jahre alt.\")"
   ]
  },
  {
   "cell_type": "code",
   "execution_count": 4,
   "metadata": {},
   "outputs": [
    {
     "name": "stdout",
     "output_type": "stream",
     "text": [
      "Doudou, roll over!\n",
      "Doudou is now sitting.\n"
     ]
    }
   ],
   "source": [
    "my_dog.roll_over()\n",
    "my_dog.sit()"
   ]
  },
  {
   "cell_type": "code",
   "execution_count": 5,
   "metadata": {},
   "outputs": [],
   "source": [
    "class Car():\n",
    "    \"\"\"To model cars.\"\"\"\n",
    "    \n",
    "    def __init__(self, make, model, year):\n",
    "        \"\"\"Initialize car attributes.\"\"\"\n",
    "        self.make = make\n",
    "        self.model = model\n",
    "        self.year = year\n",
    "        self.odometer_reading = 0 #defalt value, no need for parameter\n",
    "        \n",
    "    def get_descriptive_name(self): # no need for make, model, year\n",
    "        \"\"\"Return a neatly formatted descriptive name.\"\"\"\n",
    "        long_name = self.make + ' ' + self.model + ' ' + str(self.year)\n",
    "        return long_name.title() # RETURN\n",
    "    \n",
    "    def read_odometer(self):\n",
    "        \"\"\"Print the car's mileage.\"\"\"\n",
    "        print(\"This car has \" + str(self.odometer_reading) + \" km on it.\")\n",
    "        \n",
    "    def update_odometer(self,mileage):\n",
    "        \"\"\"\n",
    "        Update odometer to the given value.\n",
    "        Reject the update if it rolls back the mileage\n",
    "        \"\"\"\n",
    "        if mileage >= self.odometer_reading:\n",
    "            self.odometer_reading = mileage\n",
    "        else:\n",
    "            print(\"Cannot roll back the mileage.\")\n",
    "        \n",
    "    def increment_odometer(self,miles):\n",
    "        \"\"\"Add the given miles to odometer.\"\"\"\n",
    "        self.odometer_reading += miles"
   ]
  },
  {
   "cell_type": "code",
   "execution_count": 6,
   "metadata": {},
   "outputs": [],
   "source": [
    "my_old_car = Car(\"suzuki\", \"jimmy\", 2017)"
   ]
  },
  {
   "cell_type": "code",
   "execution_count": 7,
   "metadata": {},
   "outputs": [
    {
     "name": "stdout",
     "output_type": "stream",
     "text": [
      "My car is Suzuki Jimmy 2017\n"
     ]
    }
   ],
   "source": [
    "print(\"My car is \" + my_old_car.get_descriptive_name())"
   ]
  },
  {
   "cell_type": "code",
   "execution_count": 8,
   "metadata": {},
   "outputs": [
    {
     "name": "stdout",
     "output_type": "stream",
     "text": [
      "This car has 40000 km on it.\n"
     ]
    }
   ],
   "source": [
    "my_old_car.update_odometer(40000) \n",
    "my_old_car.read_odometer()"
   ]
  },
  {
   "cell_type": "code",
   "execution_count": 9,
   "metadata": {},
   "outputs": [
    {
     "name": "stdout",
     "output_type": "stream",
     "text": [
      "This car has 40100 km on it.\n"
     ]
    }
   ],
   "source": [
    "my_old_car.increment_odometer(100)\n",
    "my_old_car.read_odometer()"
   ]
  },
  {
   "cell_type": "code",
   "execution_count": 10,
   "metadata": {},
   "outputs": [],
   "source": [
    "class ElectronicCar(Car):\n",
    "    \"\"\"To model a sub-domain of Car - Electronic Car.\"\"\"\n",
    "    def __init__(self,make,model,year):\n",
    "        super().__init__(make,model,year)"
   ]
  },
  {
   "cell_type": "code",
   "execution_count": 12,
   "metadata": {},
   "outputs": [
    {
     "name": "stdout",
     "output_type": "stream",
     "text": [
      "Tesla Y 2019\n"
     ]
    }
   ],
   "source": [
    "my_electronic_car = ElectronicCar(\"Tesla\", \"Y\", 2019)\n",
    "print(my_electronic_car.get_descriptive_name())"
   ]
  },
  {
   "cell_type": "code",
   "execution_count": 14,
   "metadata": {},
   "outputs": [],
   "source": [
    "class ElectronicCar(Car):\n",
    "    \"\"\"To model a sub-domain of Car - Electronic Car.\"\"\"\n",
    "    def __init__(self,make,model,year):\n",
    "        super().__init__(make,model,year)\n",
    "        self.battery_size = 100"
   ]
  }
 ],
 "metadata": {
  "kernelspec": {
   "display_name": "Python 3",
   "language": "python",
   "name": "python3"
  },
  "language_info": {
   "codemirror_mode": {
    "name": "ipython",
    "version": 3
   },
   "file_extension": ".py",
   "mimetype": "text/x-python",
   "name": "python",
   "nbconvert_exporter": "python",
   "pygments_lexer": "ipython3",
   "version": "3.7.1"
  }
 },
 "nbformat": 4,
 "nbformat_minor": 2
}
